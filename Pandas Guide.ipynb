{
 "cells": [
  {
   "cell_type": "code",
   "execution_count": 18,
   "metadata": {},
   "outputs": [],
   "source": [
    "import pandas as pd\n",
    "column = [\"Mars\", \"Earth\", \"Jupiter\"]\n",
    "titled_column = {\"name\" : column,\n",
    "                 \"hours\": [24.37, 24, 9.56],\n",
    "                 \"days\": [687, 365, 4333]}\n",
    "data = pd.DataFrame(titled_column)\n",
    "\n",
    "data.to_csv(\"planets.csv\", index=False, sep=\"\\t\")"
   ]
  },
  {
   "cell_type": "code",
   "execution_count": 30,
   "metadata": {},
   "outputs": [
    {
     "name": "stdout",
     "output_type": "stream",
     "text": [
      "      name  hours   days\n",
      "0     Mars  24.37    687\n",
      "1    Earth  24.00    365\n",
      "2  Jupiter   9.56   4333\n",
      "3   Saturn  10.42  10759\n"
     ]
    }
   ],
   "source": [
    "import pandas as pd\n",
    "data = pd.read_csv(\"planets.csv\", sep=\"\\t\")\n",
    "\n",
    "row = {\"name\": \"Saturn\",\n",
    "      \"hours\": 10.42,\n",
    "      \"days\": 10759}\n",
    "new_row_data = data.append(row, ignore_index = True)\n",
    "print(new_row_data)"
   ]
  },
  {
   "cell_type": "code",
   "execution_count": 47,
   "metadata": {},
   "outputs": [
    {
     "name": "stdout",
     "output_type": "stream",
     "text": [
      "name      Mars\n",
      "hours    24.37\n",
      "days       687\n",
      "Name: 0, dtype: object\n",
      "name     Earth\n",
      "hours       24\n",
      "days       365\n",
      "Name: 1, dtype: object\n",
      "name     Jupiter\n",
      "hours       9.56\n",
      "days        4333\n",
      "Name: 2, dtype: object\n"
     ]
    }
   ],
   "source": [
    "for index, value in data.iterrows():\n",
    "    print(value)"
   ]
  },
  {
   "cell_type": "code",
   "execution_count": null,
   "metadata": {},
   "outputs": [],
   "source": []
  },
  {
   "cell_type": "code",
   "execution_count": null,
   "metadata": {},
   "outputs": [],
   "source": []
  }
 ],
 "metadata": {
  "kernelspec": {
   "display_name": "Python 3",
   "language": "python",
   "name": "python3"
  },
  "language_info": {
   "codemirror_mode": {
    "name": "ipython",
    "version": 3
   },
   "file_extension": ".py",
   "mimetype": "text/x-python",
   "name": "python",
   "nbconvert_exporter": "python",
   "pygments_lexer": "ipython3",
   "version": "3.8.5"
  }
 },
 "nbformat": 4,
 "nbformat_minor": 4
}
